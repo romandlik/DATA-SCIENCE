{
 "cells": [
  {
   "cell_type": "code",
   "execution_count": 9,
   "id": "d850527d",
   "metadata": {},
   "outputs": [],
   "source": [
    "import pandas as pd\n",
    "import numpy as np\n",
    "import matplotlib.pyplot as plt\n",
    "import scipy.stats as stats\n",
    "import math\n",
    "from scipy.stats import norm\n",
    "import seaborn as sns\n",
    "import statsmodels.api as smf\n",
    "import warnings\n",
    "warnings.filterwarnings('ignore')"
   ]
  },
  {
   "cell_type": "code",
   "execution_count": 10,
   "id": "faa21687",
   "metadata": {},
   "outputs": [],
   "source": [
    "n = 100"
   ]
  },
  {
   "cell_type": "code",
   "execution_count": 11,
   "id": "1074a1aa",
   "metadata": {},
   "outputs": [],
   "source": [
    "sd = 40"
   ]
  },
  {
   "cell_type": "code",
   "execution_count": 12,
   "id": "558f938d",
   "metadata": {},
   "outputs": [],
   "source": [
    "mean = 50"
   ]
  },
  {
   "cell_type": "code",
   "execution_count": 13,
   "id": "270df1c9",
   "metadata": {},
   "outputs": [],
   "source": [
    "ll= 45"
   ]
  },
  {
   "cell_type": "code",
   "execution_count": 14,
   "id": "32f6cdc1",
   "metadata": {},
   "outputs": [],
   "source": [
    "ul= 55 ##calculate the z-score for the lower and upper limits of the range ($45 and $55) using the formula:"
   ]
  },
  {
   "cell_type": "code",
   "execution_count": 17,
   "id": "75ed632d",
   "metadata": {},
   "outputs": [],
   "source": [
    "zl = (45-50)/ (sd/math.sqrt(n))                 ### z = (x - μ) / (σ / sqrt(n))"
   ]
  },
  {
   "cell_type": "code",
   "execution_count": 35,
   "id": "95086000",
   "metadata": {},
   "outputs": [
    {
     "data": {
      "text/plain": [
       "-1.25"
      ]
     },
     "execution_count": 35,
     "metadata": {},
     "output_type": "execute_result"
    }
   ],
   "source": [
    "zl                                              ### z = (45 - 50) / (40 / sqrt(100)) = -1.25"
   ]
  },
  {
   "cell_type": "code",
   "execution_count": 36,
   "id": "e66d40b4",
   "metadata": {},
   "outputs": [],
   "source": [
    "zu = (55-50)/ (sd/math.sqrt(n))"
   ]
  },
  {
   "cell_type": "code",
   "execution_count": 37,
   "id": "92b15524",
   "metadata": {},
   "outputs": [
    {
     "data": {
      "text/plain": [
       "1.25"
      ]
     },
     "execution_count": 37,
     "metadata": {},
     "output_type": "execute_result"
    }
   ],
   "source": [
    "zu"
   ]
  },
  {
   "cell_type": "code",
   "execution_count": 38,
   "id": "4921c3b8",
   "metadata": {},
   "outputs": [],
   "source": [
    "a=stats.norm.cdf(-1.25)    ## Below 45"
   ]
  },
  {
   "cell_type": "code",
   "execution_count": 42,
   "id": "0bac2b32",
   "metadata": {},
   "outputs": [
    {
     "data": {
      "text/plain": [
       "0.10564977366685535"
      ]
     },
     "execution_count": 42,
     "metadata": {},
     "output_type": "execute_result"
    }
   ],
   "source": [
    "a"
   ]
  },
  {
   "cell_type": "code",
   "execution_count": 39,
   "id": "4a6a72b7",
   "metadata": {},
   "outputs": [],
   "source": [
    "b=1-stats.norm.cdf(1.25)   ## above 55"
   ]
  },
  {
   "cell_type": "code",
   "execution_count": 43,
   "id": "c02af752",
   "metadata": {},
   "outputs": [
    {
     "data": {
      "text/plain": [
       "0.10564977366685535"
      ]
     },
     "execution_count": 43,
     "metadata": {},
     "output_type": "execute_result"
    }
   ],
   "source": [
    "b"
   ]
  },
  {
   "cell_type": "code",
   "execution_count": 40,
   "id": "17f9c2b3",
   "metadata": {},
   "outputs": [],
   "source": [
    "c= (a+b) * 100"
   ]
  },
  {
   "cell_type": "code",
   "execution_count": 41,
   "id": "97c6278b",
   "metadata": {},
   "outputs": [
    {
     "data": {
      "text/plain": [
       "21.129954733371072"
      ]
     },
     "execution_count": 41,
     "metadata": {},
     "output_type": "execute_result"
    }
   ],
   "source": [
    "c"
   ]
  },
  {
   "cell_type": "code",
   "execution_count": null,
   "id": "9a9310b7",
   "metadata": {},
   "outputs": [],
   "source": []
  }
 ],
 "metadata": {
  "kernelspec": {
   "display_name": "Python 3 (ipykernel)",
   "language": "python",
   "name": "python3"
  },
  "language_info": {
   "codemirror_mode": {
    "name": "ipython",
    "version": 3
   },
   "file_extension": ".py",
   "mimetype": "text/x-python",
   "name": "python",
   "nbconvert_exporter": "python",
   "pygments_lexer": "ipython3",
   "version": "3.9.13"
  }
 },
 "nbformat": 4,
 "nbformat_minor": 5
}
