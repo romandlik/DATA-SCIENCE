{
 "cells": [
  {
   "cell_type": "code",
   "execution_count": 10,
   "id": "8fad2f06",
   "metadata": {},
   "outputs": [],
   "source": [
    "import pandas as pd\n",
    "import numpy as np\n",
    "import matplotlib.pyplot as plt\n",
    "import scipy.stats as stats\n",
    "from scipy.stats import binom_test\n",
    "from statsmodels.stats.proportion import samplesize_confint_proportion\n",
    "import seaborn as sns\n",
    "import statsmodels.api as smf\n",
    "import warnings\n",
    "warnings.filterwarnings('ignore')\n"
   ]
  },
  {
   "cell_type": "code",
   "execution_count": 11,
   "id": "a6ba7870",
   "metadata": {},
   "outputs": [],
   "source": [
    "success= 0.046 * 2000"
   ]
  },
  {
   "cell_type": "code",
   "execution_count": 12,
   "id": "e0723500",
   "metadata": {},
   "outputs": [],
   "source": [
    "sample = 2000"
   ]
  },
  {
   "cell_type": "code",
   "execution_count": 13,
   "id": "aacdc52a",
   "metadata": {},
   "outputs": [],
   "source": [
    "p = 0.05"
   ]
  },
  {
   "cell_type": "code",
   "execution_count": 14,
   "id": "e91143ad",
   "metadata": {},
   "outputs": [],
   "source": [
    "prob= binom_test(success,2000,0.05)"
   ]
  },
  {
   "cell_type": "code",
   "execution_count": 15,
   "id": "a94fe775",
   "metadata": {},
   "outputs": [
    {
     "data": {
      "text/plain": [
       "0.4415719679011355"
      ]
     },
     "execution_count": 15,
     "metadata": {},
     "output_type": "execute_result"
    }
   ],
   "source": [
    "prob"
   ]
  },
  {
   "cell_type": "code",
   "execution_count": 16,
   "id": "1dcaa38c",
   "metadata": {},
   "outputs": [],
   "source": [
    "error= 0.04"
   ]
  },
  {
   "cell_type": "code",
   "execution_count": 17,
   "id": "bbc67376",
   "metadata": {},
   "outputs": [],
   "source": [
    "conf= 0.95"
   ]
  },
  {
   "cell_type": "code",
   "execution_count": 20,
   "id": "35fca8b8",
   "metadata": {},
   "outputs": [
    {
     "data": {
      "text/plain": [
       "600.227940733457"
      ]
     },
     "execution_count": 20,
     "metadata": {},
     "output_type": "execute_result"
    }
   ],
   "source": [
    "samplesize_confint_proportion(0.5,error,1-conf)"
   ]
  },
  {
   "cell_type": "code",
   "execution_count": 21,
   "id": "d90fbbef",
   "metadata": {},
   "outputs": [
    {
     "data": {
      "text/plain": [
       "845.6085048522407"
      ]
     },
     "execution_count": 21,
     "metadata": {},
     "output_type": "execute_result"
    }
   ],
   "source": [
    "samplesize_confint_proportion(0.5,error,1-0.98)"
   ]
  },
  {
   "cell_type": "code",
   "execution_count": null,
   "id": "ce74b3a6",
   "metadata": {},
   "outputs": [],
   "source": []
  }
 ],
 "metadata": {
  "kernelspec": {
   "display_name": "Python 3 (ipykernel)",
   "language": "python",
   "name": "python3"
  },
  "language_info": {
   "codemirror_mode": {
    "name": "ipython",
    "version": 3
   },
   "file_extension": ".py",
   "mimetype": "text/x-python",
   "name": "python",
   "nbconvert_exporter": "python",
   "pygments_lexer": "ipython3",
   "version": "3.9.13"
  }
 },
 "nbformat": 4,
 "nbformat_minor": 5
}
