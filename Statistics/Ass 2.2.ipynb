{
 "cells": [
  {
   "cell_type": "code",
   "execution_count": 1,
   "id": "f4bc019b",
   "metadata": {},
   "outputs": [],
   "source": [
    "import pandas as pd\n",
    "import numpy as np\n",
    "import matplotlib.pyplot as plt\n",
    "import scipy.stats as stats\n",
    "import seaborn as sns\n",
    "import statsmodels.api as smf\n",
    "import warnings\n",
    "warnings.filterwarnings('ignore')"
   ]
  },
  {
   "cell_type": "code",
   "execution_count": 2,
   "id": "35e63f4a",
   "metadata": {},
   "outputs": [],
   "source": [
    "mean= 45\n",
    "sd = 8"
   ]
  },
  {
   "cell_type": "code",
   "execution_count": 10,
   "id": "e51d6a11",
   "metadata": {},
   "outputs": [],
   "source": [
    "x= 50 #60-10"
   ]
  },
  {
   "cell_type": "code",
   "execution_count": 11,
   "id": "59fc46c4",
   "metadata": {},
   "outputs": [
    {
     "data": {
      "text/plain": [
       "0.26598552904870054"
      ]
     },
     "execution_count": 11,
     "metadata": {},
     "output_type": "execute_result"
    }
   ],
   "source": [
    "stats.norm.sf(x,loc=45,scale=8)"
   ]
  },
  {
   "cell_type": "code",
   "execution_count": 12,
   "id": "b8a0f13d",
   "metadata": {},
   "outputs": [],
   "source": [
    "mean = 38\n",
    "sd1 = 6"
   ]
  },
  {
   "cell_type": "code",
   "execution_count": 22,
   "id": "bfe9b741",
   "metadata": {},
   "outputs": [],
   "source": [
    "olderthan38= 1-stats.norm.cdf (38,loc=38,scale=6)"
   ]
  },
  {
   "cell_type": "code",
   "execution_count": 23,
   "id": "7fb5985c",
   "metadata": {},
   "outputs": [
    {
     "data": {
      "text/plain": [
       "0.5"
      ]
     },
     "execution_count": 23,
     "metadata": {},
     "output_type": "execute_result"
    }
   ],
   "source": [
    "olderthan38"
   ]
  },
  {
   "cell_type": "code",
   "execution_count": 24,
   "id": "c604056f",
   "metadata": {},
   "outputs": [],
   "source": [
    "olderthan44= 1-stats.norm.cdf (44,loc=38,scale=6)"
   ]
  },
  {
   "cell_type": "code",
   "execution_count": 26,
   "id": "9b9c82b5",
   "metadata": {},
   "outputs": [
    {
     "data": {
      "text/plain": [
       "0.15865525393145707"
      ]
     },
     "execution_count": 26,
     "metadata": {},
     "output_type": "execute_result"
    }
   ],
   "source": [
    "olderthan44"
   ]
  },
  {
   "cell_type": "code",
   "execution_count": 29,
   "id": "3ce23657",
   "metadata": {},
   "outputs": [],
   "source": [
    "between38and44= stats.norm.cdf (44,loc=38,scale=6)- stats.norm.cdf (38,loc=38,scale=6)"
   ]
  },
  {
   "cell_type": "code",
   "execution_count": 30,
   "id": "be007930",
   "metadata": {},
   "outputs": [
    {
     "data": {
      "text/plain": [
       "0.3413447460685429"
      ]
     },
     "execution_count": 30,
     "metadata": {},
     "output_type": "execute_result"
    }
   ],
   "source": [
    "between38and44"
   ]
  },
  {
   "cell_type": "code",
   "execution_count": 31,
   "id": "f4aa4e5c",
   "metadata": {},
   "outputs": [],
   "source": [
    "under30 = stats.norm.cdf (30,loc=38,scale=6)"
   ]
  },
  {
   "cell_type": "code",
   "execution_count": 32,
   "id": "00a51376",
   "metadata": {},
   "outputs": [
    {
     "data": {
      "text/plain": [
       "0.09121121972586788"
      ]
     },
     "execution_count": 32,
     "metadata": {},
     "output_type": "execute_result"
    }
   ],
   "source": [
    "under30"
   ]
  },
  {
   "cell_type": "code",
   "execution_count": 33,
   "id": "c881ef72",
   "metadata": {},
   "outputs": [
    {
     "data": {
      "text/plain": [
       "36.484487890347154"
      ]
     },
     "execution_count": 33,
     "metadata": {},
     "output_type": "execute_result"
    }
   ],
   "source": [
    "under30 * 400"
   ]
  },
  {
   "cell_type": "code",
   "execution_count": 34,
   "id": "50470c3a",
   "metadata": {},
   "outputs": [],
   "source": [
    "mu = 100\n",
    "sd = 20\n",
    "x = 0.99"
   ]
  },
  {
   "cell_type": "code",
   "execution_count": 35,
   "id": "67317a0f",
   "metadata": {},
   "outputs": [
    {
     "data": {
      "text/plain": [
       "(48.48341392902199, 151.516586070978)"
      ]
     },
     "execution_count": 35,
     "metadata": {},
     "output_type": "execute_result"
    }
   ],
   "source": [
    "stats.norm.interval(0.99,loc=100,scale=20)"
   ]
  },
  {
   "cell_type": "code",
   "execution_count": 36,
   "id": "3d45590c",
   "metadata": {},
   "outputs": [
    {
     "data": {
      "text/plain": [
       "146.5269574808168"
      ]
     },
     "execution_count": 36,
     "metadata": {},
     "output_type": "execute_result"
    }
   ],
   "source": [
    "stats.norm.ppf(0.99,loc=100,scale=20)"
   ]
  },
  {
   "cell_type": "code",
   "execution_count": 43,
   "id": "ee65603f",
   "metadata": {},
   "outputs": [],
   "source": [
    "mean1= 5+7"
   ]
  },
  {
   "cell_type": "code",
   "execution_count": 44,
   "id": "e72027be",
   "metadata": {},
   "outputs": [
    {
     "data": {
      "text/plain": [
       "12"
      ]
     },
     "execution_count": 44,
     "metadata": {},
     "output_type": "execute_result"
    }
   ],
   "source": [
    "mean1"
   ]
  },
  {
   "cell_type": "code",
   "execution_count": 45,
   "id": "e352056a",
   "metadata": {},
   "outputs": [],
   "source": [
    "totalmean= (mean1*45)/10"
   ]
  },
  {
   "cell_type": "code",
   "execution_count": 47,
   "id": "58455b39",
   "metadata": {},
   "outputs": [
    {
     "name": "stdout",
     "output_type": "stream",
     "text": [
      "mean profit is 54.0 cr\n"
     ]
    }
   ],
   "source": [
    "print('mean profit is rs', totalmean,'cr')"
   ]
  },
  {
   "cell_type": "code",
   "execution_count": 56,
   "id": "23e542dd",
   "metadata": {},
   "outputs": [],
   "source": [
    "sd1=np.sqrt(9+16)"
   ]
  },
  {
   "cell_type": "code",
   "execution_count": 57,
   "id": "5cc12d06",
   "metadata": {},
   "outputs": [
    {
     "data": {
      "text/plain": [
       "5.0"
      ]
     },
     "execution_count": 57,
     "metadata": {},
     "output_type": "execute_result"
    }
   ],
   "source": [
    "sd1"
   ]
  },
  {
   "cell_type": "code",
   "execution_count": 58,
   "id": "f909e1ab",
   "metadata": {},
   "outputs": [
    {
     "name": "stdout",
     "output_type": "stream",
     "text": [
      "standard d is rs 22.5 cr\n"
     ]
    }
   ],
   "source": [
    "print('standard d is rs',(sd1*45)/10,'cr')"
   ]
  },
  {
   "cell_type": "code",
   "execution_count": 59,
   "id": "48ff594a",
   "metadata": {},
   "outputs": [
    {
     "data": {
      "text/plain": [
       "(9.900810347848783, 98.09918965215121)"
      ]
     },
     "execution_count": 59,
     "metadata": {},
     "output_type": "execute_result"
    }
   ],
   "source": [
    "stats.norm.interval(0.95,loc=54,scale=22.5)"
   ]
  },
  {
   "cell_type": "code",
   "execution_count": 60,
   "id": "9c98700f",
   "metadata": {},
   "outputs": [
    {
     "data": {
      "text/plain": [
       "16.990793393591858"
      ]
     },
     "execution_count": 60,
     "metadata": {},
     "output_type": "execute_result"
    }
   ],
   "source": [
    "stats.norm.ppf(0.05,loc=54,scale=22.5)"
   ]
  },
  {
   "cell_type": "code",
   "execution_count": 61,
   "id": "295faaa5",
   "metadata": {},
   "outputs": [],
   "source": [
    "c1= stats.norm.cdf(0,loc=5,scale=3)"
   ]
  },
  {
   "cell_type": "code",
   "execution_count": 62,
   "id": "3e764cc9",
   "metadata": {},
   "outputs": [],
   "source": [
    "c2= stats.norm.cdf(0,loc=7,scale=4)"
   ]
  },
  {
   "cell_type": "code",
   "execution_count": 63,
   "id": "5403c1e8",
   "metadata": {},
   "outputs": [
    {
     "data": {
      "text/plain": [
       "0.0477903522728147"
      ]
     },
     "execution_count": 63,
     "metadata": {},
     "output_type": "execute_result"
    }
   ],
   "source": [
    "c1"
   ]
  },
  {
   "cell_type": "code",
   "execution_count": 64,
   "id": "7cf1bd60",
   "metadata": {},
   "outputs": [
    {
     "data": {
      "text/plain": [
       "0.040059156863817086"
      ]
     },
     "execution_count": 64,
     "metadata": {},
     "output_type": "execute_result"
    }
   ],
   "source": [
    "c2"
   ]
  },
  {
   "cell_type": "code",
   "execution_count": null,
   "id": "f84dd26c",
   "metadata": {},
   "outputs": [],
   "source": []
  }
 ],
 "metadata": {
  "kernelspec": {
   "display_name": "Python 3 (ipykernel)",
   "language": "python",
   "name": "python3"
  },
  "language_info": {
   "codemirror_mode": {
    "name": "ipython",
    "version": 3
   },
   "file_extension": ".py",
   "mimetype": "text/x-python",
   "name": "python",
   "nbconvert_exporter": "python",
   "pygments_lexer": "ipython3",
   "version": "3.9.13"
  }
 },
 "nbformat": 4,
 "nbformat_minor": 5
}
